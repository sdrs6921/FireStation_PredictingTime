{
 "cells": [
  {
   "cell_type": "code",
   "execution_count": 8,
   "metadata": {},
   "outputs": [],
   "source": [
    "import pandas as pd\n",
    "from sklearn import svm, metrics\n",
    "from sklearn.model_selection import train_test_split\n",
    "from sklearn.ensemble import RandomForestClassifier\n",
    "import datetime\n",
    "import xlrd\n",
    "\n",
    "path='./'\n",
    "fire_xlsx=pd.read_excel(path + \"서울시 화재 출동현황(2018.1_2019.11).xlsx\")\n",
    "city_code=pd.read_csv(path + '서울시 법정동코드.txt', encoding='euc-kr', delimiter='\\t')\n",
    "city_code=city_code[city_code.폐지여부 != \"폐지\"]\n",
    "city_code.법정동명=city_code.법정동명.str.split(\" \")\n",
    "city_code.법정동명=city_code.법정동명.transform(lambda x : x[1:])\n",
    "\n",
    "label=[]\n",
    "datas=[]"
   ]
  },
  {
   "cell_type": "code",
   "execution_count": 9,
   "metadata": {},
   "outputs": [],
   "source": [
    "import math\n",
    "\n",
    "for idx, row in fire_xlsx.iterrows():\n",
    "    diff=math.ceil((row['도착일시']-row['출동일시']).seconds/60)\n",
    "    label.append(diff)\n",
    "    \n",
    "    data=[]\n",
    "    data.append(row['소방서거리(㎞)'])\n",
    "    data.append(city_code[city_code['법정동명'].apply(lambda x: x==[row[\"시군구\"], row[\"읍면동\"]])]['법정동코드'].index.item())\n",
    "    data.append(row['출동일시'].hour)\n",
    "    datas.append(data)"
   ]
  },
  {
   "cell_type": "code",
   "execution_count": 10,
   "metadata": {},
   "outputs": [
    {
     "name": "stdout",
     "output_type": "stream",
     "text": [
      "Score: 0.3128044537230341\n"
     ]
    }
   ],
   "source": [
    "#svc.SVC Model\n",
    "train_data, test_data, train_label, test_label = train_test_split(datas, label)\n",
    "\n",
    "clf=svm.SVC()\n",
    "clf.fit(train_data, train_label)\n",
    "\n",
    "pre=clf.predict(test_data)\n",
    "score=metrics.accuracy_score(test_label, pre)\n",
    "\n",
    "print('Score:', score)"
   ]
  },
  {
   "cell_type": "code",
   "execution_count": 11,
   "metadata": {},
   "outputs": [
    {
     "name": "stdout",
     "output_type": "stream",
     "text": [
      "정답률: 0.30758524704244955\n"
     ]
    }
   ],
   "source": [
    "#RandomForestClassifier\n",
    "train_data, test_data, train_label, test_label = train_test_split(datas, label)\n",
    "\n",
    "clf=RandomForestClassifier()\n",
    "clf.fit(train_data,train_label)\n",
    "pre=clf.predict(test_data)\n",
    "\n",
    "score=metrics.accuracy_score(test_label, pre)\n",
    "print(\"정답률:\", score)"
   ]
  },
  {
   "cell_type": "code",
   "execution_count": 12,
   "metadata": {},
   "outputs": [],
   "source": [
    "import csv\n",
    "\n",
    "with open('./datas_ver4.csv', 'w') as f:\n",
    "    writer = csv.writer(f, lineterminator='\\n')\n",
    "    writer.writerows(datas)"
   ]
  },
  {
   "cell_type": "code",
   "execution_count": 14,
   "metadata": {},
   "outputs": [],
   "source": [
    "with open('./label_ver4.csv', 'w') as f:\n",
    "    writer = csv.writer(f, lineterminator='\\n')\n",
    "    writer.writerow(label)"
   ]
  },
  {
   "cell_type": "code",
   "execution_count": null,
   "metadata": {},
   "outputs": [],
   "source": []
  }
 ],
 "metadata": {
  "kernelspec": {
   "display_name": "Python 3",
   "language": "python",
   "name": "python3"
  },
  "language_info": {
   "codemirror_mode": {
    "name": "ipython",
    "version": 3
   },
   "file_extension": ".py",
   "mimetype": "text/x-python",
   "name": "python",
   "nbconvert_exporter": "python",
   "pygments_lexer": "ipython3",
   "version": "3.7.4"
  }
 },
 "nbformat": 4,
 "nbformat_minor": 2
}
