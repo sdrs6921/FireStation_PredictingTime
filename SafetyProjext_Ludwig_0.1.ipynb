{
 "cells": [
  {
   "cell_type": "code",
   "execution_count": 99,
   "metadata": {
    "tags": []
   },
   "outputs": [
    {
     "output_type": "display_data",
     "data": {
      "text/plain": "         소방서    119안전센터                접수일시                출동일시  \\\n0      강북소방서  번동119안전센터 2018-01-01 00:49:38 2018-01-01 00:50:34   \n1      관악소방서  봉천119안전센터 2018-01-01 02:34:10 2018-01-01 02:36:17   \n2      강북소방서  번동119안전센터 2018-01-01 05:04:43 2018-01-01 05:05:53   \n3      구로소방서  시흥119안전센터 2018-01-01 08:09:23 2018-01-01 08:10:00   \n4      구로소방서  독산119안전센터 2018-01-01 08:20:13 2018-01-01 08:20:40   \n...      ...        ...                 ...                 ...   \n11490  구로소방서  공단119안전센터 2019-11-30 15:21:13 2019-11-30 15:22:04   \n11491  관악소방서  관악119안전센터 2019-11-30 17:59:03 2019-11-30 18:00:44   \n11492  구로소방서  공단119안전센터 2019-11-30 20:43:20 2019-11-30 20:44:41   \n11493  성북소방서  돈암119안전센터 2019-11-30 23:10:00 2019-11-30 23:11:46   \n11494  은평소방서  진관119안전센터 2019-11-30 23:52:45 2019-11-30 23:54:10   \n\n                     도착일시  시군구    읍면동  소방서거리(㎞)  \n0     2018-01-01 00:55:00  강북구     번동       1.4  \n1     2018-01-01 02:39:00  관악구    봉천동       0.8  \n2     2018-01-01 05:10:00  강북구    수유동       1.7  \n3     2018-01-01 08:16:00  금천구    시흥동       1.5  \n4     2018-01-01 08:25:00  금천구    시흥동       1.9  \n...                   ...  ...    ...       ...  \n11490 2019-11-30 15:25:59  구로구   가리봉동       1.4  \n11491 2019-11-30 18:04:00  관악구    봉천동       0.5  \n11492 2019-11-30 20:49:56  금천구    가산동       2.4  \n11493 2019-11-30 23:13:00  성북구  동선동5가       0.8  \n11494 2019-11-30 23:57:00  은평구    갈현동       1.0  \n\n[11495 rows x 8 columns]",
      "text/html": "<div>\n<style scoped>\n    .dataframe tbody tr th:only-of-type {\n        vertical-align: middle;\n    }\n\n    .dataframe tbody tr th {\n        vertical-align: top;\n    }\n\n    .dataframe thead th {\n        text-align: right;\n    }\n</style>\n<table border=\"1\" class=\"dataframe\">\n  <thead>\n    <tr style=\"text-align: right;\">\n      <th></th>\n      <th>소방서</th>\n      <th>119안전센터</th>\n      <th>접수일시</th>\n      <th>출동일시</th>\n      <th>도착일시</th>\n      <th>시군구</th>\n      <th>읍면동</th>\n      <th>소방서거리(㎞)</th>\n    </tr>\n  </thead>\n  <tbody>\n    <tr>\n      <th>0</th>\n      <td>강북소방서</td>\n      <td>번동119안전센터</td>\n      <td>2018-01-01 00:49:38</td>\n      <td>2018-01-01 00:50:34</td>\n      <td>2018-01-01 00:55:00</td>\n      <td>강북구</td>\n      <td>번동</td>\n      <td>1.4</td>\n    </tr>\n    <tr>\n      <th>1</th>\n      <td>관악소방서</td>\n      <td>봉천119안전센터</td>\n      <td>2018-01-01 02:34:10</td>\n      <td>2018-01-01 02:36:17</td>\n      <td>2018-01-01 02:39:00</td>\n      <td>관악구</td>\n      <td>봉천동</td>\n      <td>0.8</td>\n    </tr>\n    <tr>\n      <th>2</th>\n      <td>강북소방서</td>\n      <td>번동119안전센터</td>\n      <td>2018-01-01 05:04:43</td>\n      <td>2018-01-01 05:05:53</td>\n      <td>2018-01-01 05:10:00</td>\n      <td>강북구</td>\n      <td>수유동</td>\n      <td>1.7</td>\n    </tr>\n    <tr>\n      <th>3</th>\n      <td>구로소방서</td>\n      <td>시흥119안전센터</td>\n      <td>2018-01-01 08:09:23</td>\n      <td>2018-01-01 08:10:00</td>\n      <td>2018-01-01 08:16:00</td>\n      <td>금천구</td>\n      <td>시흥동</td>\n      <td>1.5</td>\n    </tr>\n    <tr>\n      <th>4</th>\n      <td>구로소방서</td>\n      <td>독산119안전센터</td>\n      <td>2018-01-01 08:20:13</td>\n      <td>2018-01-01 08:20:40</td>\n      <td>2018-01-01 08:25:00</td>\n      <td>금천구</td>\n      <td>시흥동</td>\n      <td>1.9</td>\n    </tr>\n    <tr>\n      <th>...</th>\n      <td>...</td>\n      <td>...</td>\n      <td>...</td>\n      <td>...</td>\n      <td>...</td>\n      <td>...</td>\n      <td>...</td>\n      <td>...</td>\n    </tr>\n    <tr>\n      <th>11490</th>\n      <td>구로소방서</td>\n      <td>공단119안전센터</td>\n      <td>2019-11-30 15:21:13</td>\n      <td>2019-11-30 15:22:04</td>\n      <td>2019-11-30 15:25:59</td>\n      <td>구로구</td>\n      <td>가리봉동</td>\n      <td>1.4</td>\n    </tr>\n    <tr>\n      <th>11491</th>\n      <td>관악소방서</td>\n      <td>관악119안전센터</td>\n      <td>2019-11-30 17:59:03</td>\n      <td>2019-11-30 18:00:44</td>\n      <td>2019-11-30 18:04:00</td>\n      <td>관악구</td>\n      <td>봉천동</td>\n      <td>0.5</td>\n    </tr>\n    <tr>\n      <th>11492</th>\n      <td>구로소방서</td>\n      <td>공단119안전센터</td>\n      <td>2019-11-30 20:43:20</td>\n      <td>2019-11-30 20:44:41</td>\n      <td>2019-11-30 20:49:56</td>\n      <td>금천구</td>\n      <td>가산동</td>\n      <td>2.4</td>\n    </tr>\n    <tr>\n      <th>11493</th>\n      <td>성북소방서</td>\n      <td>돈암119안전센터</td>\n      <td>2019-11-30 23:10:00</td>\n      <td>2019-11-30 23:11:46</td>\n      <td>2019-11-30 23:13:00</td>\n      <td>성북구</td>\n      <td>동선동5가</td>\n      <td>0.8</td>\n    </tr>\n    <tr>\n      <th>11494</th>\n      <td>은평소방서</td>\n      <td>진관119안전센터</td>\n      <td>2019-11-30 23:52:45</td>\n      <td>2019-11-30 23:54:10</td>\n      <td>2019-11-30 23:57:00</td>\n      <td>은평구</td>\n      <td>갈현동</td>\n      <td>1.0</td>\n    </tr>\n  </tbody>\n</table>\n<p>11495 rows × 8 columns</p>\n</div>"
     },
     "metadata": {}
    }
   ],
   "source": [
    "import pandas as pd\n",
    "from sklearn import svm, metrics\n",
    "from sklearn.model_selection import train_test_split\n",
    "import datetime\n",
    "import xlrd\n",
    "\n",
    "path='./'\n",
    "fire_xlsx=pd.read_excel(path+'서울시 화재 출동현황(2018.1_2019.11).xlsx')\n",
    "\n",
    "# '시도' 칼럼 삭제\n",
    "fire_xlsx.drop('시도', axis=1, inplace=True)\n",
    "\n",
    "display(fire_xlsx)"
   ]
  },
  {
   "cell_type": "code",
   "execution_count": 100,
   "metadata": {},
   "outputs": [
    {
     "output_type": "display_data",
     "data": {
      "text/plain": "      FirestationParent FirestationChild         ReceiptTime  \\\n0                 강북소방서        번동119안전센터 2018-01-01 00:49:38   \n1                 관악소방서        봉천119안전센터 2018-01-01 02:34:10   \n2                 강북소방서        번동119안전센터 2018-01-01 05:04:43   \n3                 구로소방서        시흥119안전센터 2018-01-01 08:09:23   \n4                 구로소방서        독산119안전센터 2018-01-01 08:20:13   \n...                 ...              ...                 ...   \n11490             구로소방서        공단119안전센터 2019-11-30 15:21:13   \n11491             관악소방서        관악119안전센터 2019-11-30 17:59:03   \n11492             구로소방서        공단119안전센터 2019-11-30 20:43:20   \n11493             성북소방서        돈암119안전센터 2019-11-30 23:10:00   \n11494             은평소방서        진관119안전센터 2019-11-30 23:52:45   \n\n            DepartureTime         ArrivalTime Town Village  DistanceKm  \n0     2018-01-01 00:50:34 2018-01-01 00:55:00  강북구      번동         1.4  \n1     2018-01-01 02:36:17 2018-01-01 02:39:00  관악구     봉천동         0.8  \n2     2018-01-01 05:05:53 2018-01-01 05:10:00  강북구     수유동         1.7  \n3     2018-01-01 08:10:00 2018-01-01 08:16:00  금천구     시흥동         1.5  \n4     2018-01-01 08:20:40 2018-01-01 08:25:00  금천구     시흥동         1.9  \n...                   ...                 ...  ...     ...         ...  \n11490 2019-11-30 15:22:04 2019-11-30 15:25:59  구로구    가리봉동         1.4  \n11491 2019-11-30 18:00:44 2019-11-30 18:04:00  관악구     봉천동         0.5  \n11492 2019-11-30 20:44:41 2019-11-30 20:49:56  금천구     가산동         2.4  \n11493 2019-11-30 23:11:46 2019-11-30 23:13:00  성북구   동선동5가         0.8  \n11494 2019-11-30 23:54:10 2019-11-30 23:57:00  은평구     갈현동         1.0  \n\n[11495 rows x 8 columns]",
      "text/html": "<div>\n<style scoped>\n    .dataframe tbody tr th:only-of-type {\n        vertical-align: middle;\n    }\n\n    .dataframe tbody tr th {\n        vertical-align: top;\n    }\n\n    .dataframe thead th {\n        text-align: right;\n    }\n</style>\n<table border=\"1\" class=\"dataframe\">\n  <thead>\n    <tr style=\"text-align: right;\">\n      <th></th>\n      <th>FirestationParent</th>\n      <th>FirestationChild</th>\n      <th>ReceiptTime</th>\n      <th>DepartureTime</th>\n      <th>ArrivalTime</th>\n      <th>Town</th>\n      <th>Village</th>\n      <th>DistanceKm</th>\n    </tr>\n  </thead>\n  <tbody>\n    <tr>\n      <th>0</th>\n      <td>강북소방서</td>\n      <td>번동119안전센터</td>\n      <td>2018-01-01 00:49:38</td>\n      <td>2018-01-01 00:50:34</td>\n      <td>2018-01-01 00:55:00</td>\n      <td>강북구</td>\n      <td>번동</td>\n      <td>1.4</td>\n    </tr>\n    <tr>\n      <th>1</th>\n      <td>관악소방서</td>\n      <td>봉천119안전센터</td>\n      <td>2018-01-01 02:34:10</td>\n      <td>2018-01-01 02:36:17</td>\n      <td>2018-01-01 02:39:00</td>\n      <td>관악구</td>\n      <td>봉천동</td>\n      <td>0.8</td>\n    </tr>\n    <tr>\n      <th>2</th>\n      <td>강북소방서</td>\n      <td>번동119안전센터</td>\n      <td>2018-01-01 05:04:43</td>\n      <td>2018-01-01 05:05:53</td>\n      <td>2018-01-01 05:10:00</td>\n      <td>강북구</td>\n      <td>수유동</td>\n      <td>1.7</td>\n    </tr>\n    <tr>\n      <th>3</th>\n      <td>구로소방서</td>\n      <td>시흥119안전센터</td>\n      <td>2018-01-01 08:09:23</td>\n      <td>2018-01-01 08:10:00</td>\n      <td>2018-01-01 08:16:00</td>\n      <td>금천구</td>\n      <td>시흥동</td>\n      <td>1.5</td>\n    </tr>\n    <tr>\n      <th>4</th>\n      <td>구로소방서</td>\n      <td>독산119안전센터</td>\n      <td>2018-01-01 08:20:13</td>\n      <td>2018-01-01 08:20:40</td>\n      <td>2018-01-01 08:25:00</td>\n      <td>금천구</td>\n      <td>시흥동</td>\n      <td>1.9</td>\n    </tr>\n    <tr>\n      <th>...</th>\n      <td>...</td>\n      <td>...</td>\n      <td>...</td>\n      <td>...</td>\n      <td>...</td>\n      <td>...</td>\n      <td>...</td>\n      <td>...</td>\n    </tr>\n    <tr>\n      <th>11490</th>\n      <td>구로소방서</td>\n      <td>공단119안전센터</td>\n      <td>2019-11-30 15:21:13</td>\n      <td>2019-11-30 15:22:04</td>\n      <td>2019-11-30 15:25:59</td>\n      <td>구로구</td>\n      <td>가리봉동</td>\n      <td>1.4</td>\n    </tr>\n    <tr>\n      <th>11491</th>\n      <td>관악소방서</td>\n      <td>관악119안전센터</td>\n      <td>2019-11-30 17:59:03</td>\n      <td>2019-11-30 18:00:44</td>\n      <td>2019-11-30 18:04:00</td>\n      <td>관악구</td>\n      <td>봉천동</td>\n      <td>0.5</td>\n    </tr>\n    <tr>\n      <th>11492</th>\n      <td>구로소방서</td>\n      <td>공단119안전센터</td>\n      <td>2019-11-30 20:43:20</td>\n      <td>2019-11-30 20:44:41</td>\n      <td>2019-11-30 20:49:56</td>\n      <td>금천구</td>\n      <td>가산동</td>\n      <td>2.4</td>\n    </tr>\n    <tr>\n      <th>11493</th>\n      <td>성북소방서</td>\n      <td>돈암119안전센터</td>\n      <td>2019-11-30 23:10:00</td>\n      <td>2019-11-30 23:11:46</td>\n      <td>2019-11-30 23:13:00</td>\n      <td>성북구</td>\n      <td>동선동5가</td>\n      <td>0.8</td>\n    </tr>\n    <tr>\n      <th>11494</th>\n      <td>은평소방서</td>\n      <td>진관119안전센터</td>\n      <td>2019-11-30 23:52:45</td>\n      <td>2019-11-30 23:54:10</td>\n      <td>2019-11-30 23:57:00</td>\n      <td>은평구</td>\n      <td>갈현동</td>\n      <td>1.0</td>\n    </tr>\n  </tbody>\n</table>\n<p>11495 rows × 8 columns</p>\n</div>"
     },
     "metadata": {}
    }
   ],
   "source": [
    "fire_xlsx.columns = [\"FirestationParent\", \"FirestationChild\", \"ReceiptTime\", \"DepartureTime\", \"ArrivalTime\", \"Town\", \"Village\", \"DistanceKm\"]\n",
    "\n",
    "display(fire_xlsx)"
   ]
  },
  {
   "cell_type": "code",
   "execution_count": 101,
   "metadata": {},
   "outputs": [
    {
     "output_type": "display_data",
     "data": {
      "text/plain": "      FirestationParent FirestationChild         ReceiptTime  \\\n0                 강북소방서        번동119안전센터 2018-01-01 00:49:38   \n1                 관악소방서        봉천119안전센터 2018-01-01 02:34:10   \n2                 강북소방서        번동119안전센터 2018-01-01 05:04:43   \n3                 구로소방서        시흥119안전센터 2018-01-01 08:09:23   \n4                 구로소방서        독산119안전센터 2018-01-01 08:20:13   \n...                 ...              ...                 ...   \n11490             구로소방서        공단119안전센터 2019-11-30 15:21:13   \n11491             관악소방서        관악119안전센터 2019-11-30 17:59:03   \n11492             구로소방서        공단119안전센터 2019-11-30 20:43:20   \n11493             성북소방서        돈암119안전센터 2019-11-30 23:10:00   \n11494             은평소방서        진관119안전센터 2019-11-30 23:52:45   \n\n            DepartureTime         ArrivalTime Town Village  DistanceKm  \\\n0     2018-01-01 00:50:34 2018-01-01 00:55:00  강북구      번동         1.4   \n1     2018-01-01 02:36:17 2018-01-01 02:39:00  관악구     봉천동         0.8   \n2     2018-01-01 05:05:53 2018-01-01 05:10:00  강북구     수유동         1.7   \n3     2018-01-01 08:10:00 2018-01-01 08:16:00  금천구     시흥동         1.5   \n4     2018-01-01 08:20:40 2018-01-01 08:25:00  금천구     시흥동         1.9   \n...                   ...                 ...  ...     ...         ...   \n11490 2019-11-30 15:22:04 2019-11-30 15:25:59  구로구    가리봉동         1.4   \n11491 2019-11-30 18:00:44 2019-11-30 18:04:00  관악구     봉천동         0.5   \n11492 2019-11-30 20:44:41 2019-11-30 20:49:56  금천구     가산동         2.4   \n11493 2019-11-30 23:11:46 2019-11-30 23:13:00  성북구   동선동5가         0.8   \n11494 2019-11-30 23:54:10 2019-11-30 23:57:00  은평구     갈현동         1.0   \n\n            day  \n0        Monday  \n1        Monday  \n2        Monday  \n3        Monday  \n4        Monday  \n...         ...  \n11490  Saturday  \n11491  Saturday  \n11492  Saturday  \n11493  Saturday  \n11494  Saturday  \n\n[11495 rows x 9 columns]",
      "text/html": "<div>\n<style scoped>\n    .dataframe tbody tr th:only-of-type {\n        vertical-align: middle;\n    }\n\n    .dataframe tbody tr th {\n        vertical-align: top;\n    }\n\n    .dataframe thead th {\n        text-align: right;\n    }\n</style>\n<table border=\"1\" class=\"dataframe\">\n  <thead>\n    <tr style=\"text-align: right;\">\n      <th></th>\n      <th>FirestationParent</th>\n      <th>FirestationChild</th>\n      <th>ReceiptTime</th>\n      <th>DepartureTime</th>\n      <th>ArrivalTime</th>\n      <th>Town</th>\n      <th>Village</th>\n      <th>DistanceKm</th>\n      <th>day</th>\n    </tr>\n  </thead>\n  <tbody>\n    <tr>\n      <th>0</th>\n      <td>강북소방서</td>\n      <td>번동119안전센터</td>\n      <td>2018-01-01 00:49:38</td>\n      <td>2018-01-01 00:50:34</td>\n      <td>2018-01-01 00:55:00</td>\n      <td>강북구</td>\n      <td>번동</td>\n      <td>1.4</td>\n      <td>Monday</td>\n    </tr>\n    <tr>\n      <th>1</th>\n      <td>관악소방서</td>\n      <td>봉천119안전센터</td>\n      <td>2018-01-01 02:34:10</td>\n      <td>2018-01-01 02:36:17</td>\n      <td>2018-01-01 02:39:00</td>\n      <td>관악구</td>\n      <td>봉천동</td>\n      <td>0.8</td>\n      <td>Monday</td>\n    </tr>\n    <tr>\n      <th>2</th>\n      <td>강북소방서</td>\n      <td>번동119안전센터</td>\n      <td>2018-01-01 05:04:43</td>\n      <td>2018-01-01 05:05:53</td>\n      <td>2018-01-01 05:10:00</td>\n      <td>강북구</td>\n      <td>수유동</td>\n      <td>1.7</td>\n      <td>Monday</td>\n    </tr>\n    <tr>\n      <th>3</th>\n      <td>구로소방서</td>\n      <td>시흥119안전센터</td>\n      <td>2018-01-01 08:09:23</td>\n      <td>2018-01-01 08:10:00</td>\n      <td>2018-01-01 08:16:00</td>\n      <td>금천구</td>\n      <td>시흥동</td>\n      <td>1.5</td>\n      <td>Monday</td>\n    </tr>\n    <tr>\n      <th>4</th>\n      <td>구로소방서</td>\n      <td>독산119안전센터</td>\n      <td>2018-01-01 08:20:13</td>\n      <td>2018-01-01 08:20:40</td>\n      <td>2018-01-01 08:25:00</td>\n      <td>금천구</td>\n      <td>시흥동</td>\n      <td>1.9</td>\n      <td>Monday</td>\n    </tr>\n    <tr>\n      <th>...</th>\n      <td>...</td>\n      <td>...</td>\n      <td>...</td>\n      <td>...</td>\n      <td>...</td>\n      <td>...</td>\n      <td>...</td>\n      <td>...</td>\n      <td>...</td>\n    </tr>\n    <tr>\n      <th>11490</th>\n      <td>구로소방서</td>\n      <td>공단119안전센터</td>\n      <td>2019-11-30 15:21:13</td>\n      <td>2019-11-30 15:22:04</td>\n      <td>2019-11-30 15:25:59</td>\n      <td>구로구</td>\n      <td>가리봉동</td>\n      <td>1.4</td>\n      <td>Saturday</td>\n    </tr>\n    <tr>\n      <th>11491</th>\n      <td>관악소방서</td>\n      <td>관악119안전센터</td>\n      <td>2019-11-30 17:59:03</td>\n      <td>2019-11-30 18:00:44</td>\n      <td>2019-11-30 18:04:00</td>\n      <td>관악구</td>\n      <td>봉천동</td>\n      <td>0.5</td>\n      <td>Saturday</td>\n    </tr>\n    <tr>\n      <th>11492</th>\n      <td>구로소방서</td>\n      <td>공단119안전센터</td>\n      <td>2019-11-30 20:43:20</td>\n      <td>2019-11-30 20:44:41</td>\n      <td>2019-11-30 20:49:56</td>\n      <td>금천구</td>\n      <td>가산동</td>\n      <td>2.4</td>\n      <td>Saturday</td>\n    </tr>\n    <tr>\n      <th>11493</th>\n      <td>성북소방서</td>\n      <td>돈암119안전센터</td>\n      <td>2019-11-30 23:10:00</td>\n      <td>2019-11-30 23:11:46</td>\n      <td>2019-11-30 23:13:00</td>\n      <td>성북구</td>\n      <td>동선동5가</td>\n      <td>0.8</td>\n      <td>Saturday</td>\n    </tr>\n    <tr>\n      <th>11494</th>\n      <td>은평소방서</td>\n      <td>진관119안전센터</td>\n      <td>2019-11-30 23:52:45</td>\n      <td>2019-11-30 23:54:10</td>\n      <td>2019-11-30 23:57:00</td>\n      <td>은평구</td>\n      <td>갈현동</td>\n      <td>1.0</td>\n      <td>Saturday</td>\n    </tr>\n  </tbody>\n</table>\n<p>11495 rows × 9 columns</p>\n</div>"
     },
     "metadata": {}
    }
   ],
   "source": [
    "# '출동요일' 칼럼 추가\n",
    "day = []\n",
    "for idx, row in fire_xlsx.iterrows():\n",
    "    weekday = (row['ReceiptTime'].weekday())\n",
    "    d = {0:'Monday', 1:'Tuesday', 2:'Wednesday', 3:'Thursday', 4:'Friday', 5:'Saturday', 6:'Sunday'}\n",
    "    day.append(d[weekday])\n",
    "\n",
    "fire_xlsx.loc[:, 'day'] = day\n",
    "display(fire_xlsx)"
   ]
  },
  {
   "cell_type": "code",
   "execution_count": 102,
   "metadata": {},
   "outputs": [
    {
     "output_type": "display_data",
     "data": {
      "text/plain": "      FirestationParent FirestationChild         ReceiptTime  \\\n0                 강북소방서        번동119안전센터 2018-01-01 00:49:38   \n1                 관악소방서        봉천119안전센터 2018-01-01 02:34:10   \n2                 강북소방서        번동119안전센터 2018-01-01 05:04:43   \n3                 구로소방서        시흥119안전센터 2018-01-01 08:09:23   \n4                 구로소방서        독산119안전센터 2018-01-01 08:20:13   \n...                 ...              ...                 ...   \n11490             구로소방서        공단119안전센터 2019-11-30 15:21:13   \n11491             관악소방서        관악119안전센터 2019-11-30 17:59:03   \n11492             구로소방서        공단119안전센터 2019-11-30 20:43:20   \n11493             성북소방서        돈암119안전센터 2019-11-30 23:10:00   \n11494             은평소방서        진관119안전센터 2019-11-30 23:52:45   \n\n            DepartureTime         ArrivalTime Town Village  DistanceKm  \\\n0     2018-01-01 00:50:34 2018-01-01 00:55:00  강북구      번동         1.4   \n1     2018-01-01 02:36:17 2018-01-01 02:39:00  관악구     봉천동         0.8   \n2     2018-01-01 05:05:53 2018-01-01 05:10:00  강북구     수유동         1.7   \n3     2018-01-01 08:10:00 2018-01-01 08:16:00  금천구     시흥동         1.5   \n4     2018-01-01 08:20:40 2018-01-01 08:25:00  금천구     시흥동         1.9   \n...                   ...                 ...  ...     ...         ...   \n11490 2019-11-30 15:22:04 2019-11-30 15:25:59  구로구    가리봉동         1.4   \n11491 2019-11-30 18:00:44 2019-11-30 18:04:00  관악구     봉천동         0.5   \n11492 2019-11-30 20:44:41 2019-11-30 20:49:56  금천구     가산동         2.4   \n11493 2019-11-30 23:11:46 2019-11-30 23:13:00  성북구   동선동5가         0.8   \n11494 2019-11-30 23:54:10 2019-11-30 23:57:00  은평구     갈현동         1.0   \n\n            day  TimeTakenSec  \n0        Monday           266  \n1        Monday           163  \n2        Monday           247  \n3        Monday           360  \n4        Monday           260  \n...         ...           ...  \n11490  Saturday           235  \n11491  Saturday           196  \n11492  Saturday           315  \n11493  Saturday            74  \n11494  Saturday           170  \n\n[11495 rows x 10 columns]",
      "text/html": "<div>\n<style scoped>\n    .dataframe tbody tr th:only-of-type {\n        vertical-align: middle;\n    }\n\n    .dataframe tbody tr th {\n        vertical-align: top;\n    }\n\n    .dataframe thead th {\n        text-align: right;\n    }\n</style>\n<table border=\"1\" class=\"dataframe\">\n  <thead>\n    <tr style=\"text-align: right;\">\n      <th></th>\n      <th>FirestationParent</th>\n      <th>FirestationChild</th>\n      <th>ReceiptTime</th>\n      <th>DepartureTime</th>\n      <th>ArrivalTime</th>\n      <th>Town</th>\n      <th>Village</th>\n      <th>DistanceKm</th>\n      <th>day</th>\n      <th>TimeTakenSec</th>\n    </tr>\n  </thead>\n  <tbody>\n    <tr>\n      <th>0</th>\n      <td>강북소방서</td>\n      <td>번동119안전센터</td>\n      <td>2018-01-01 00:49:38</td>\n      <td>2018-01-01 00:50:34</td>\n      <td>2018-01-01 00:55:00</td>\n      <td>강북구</td>\n      <td>번동</td>\n      <td>1.4</td>\n      <td>Monday</td>\n      <td>266</td>\n    </tr>\n    <tr>\n      <th>1</th>\n      <td>관악소방서</td>\n      <td>봉천119안전센터</td>\n      <td>2018-01-01 02:34:10</td>\n      <td>2018-01-01 02:36:17</td>\n      <td>2018-01-01 02:39:00</td>\n      <td>관악구</td>\n      <td>봉천동</td>\n      <td>0.8</td>\n      <td>Monday</td>\n      <td>163</td>\n    </tr>\n    <tr>\n      <th>2</th>\n      <td>강북소방서</td>\n      <td>번동119안전센터</td>\n      <td>2018-01-01 05:04:43</td>\n      <td>2018-01-01 05:05:53</td>\n      <td>2018-01-01 05:10:00</td>\n      <td>강북구</td>\n      <td>수유동</td>\n      <td>1.7</td>\n      <td>Monday</td>\n      <td>247</td>\n    </tr>\n    <tr>\n      <th>3</th>\n      <td>구로소방서</td>\n      <td>시흥119안전센터</td>\n      <td>2018-01-01 08:09:23</td>\n      <td>2018-01-01 08:10:00</td>\n      <td>2018-01-01 08:16:00</td>\n      <td>금천구</td>\n      <td>시흥동</td>\n      <td>1.5</td>\n      <td>Monday</td>\n      <td>360</td>\n    </tr>\n    <tr>\n      <th>4</th>\n      <td>구로소방서</td>\n      <td>독산119안전센터</td>\n      <td>2018-01-01 08:20:13</td>\n      <td>2018-01-01 08:20:40</td>\n      <td>2018-01-01 08:25:00</td>\n      <td>금천구</td>\n      <td>시흥동</td>\n      <td>1.9</td>\n      <td>Monday</td>\n      <td>260</td>\n    </tr>\n    <tr>\n      <th>...</th>\n      <td>...</td>\n      <td>...</td>\n      <td>...</td>\n      <td>...</td>\n      <td>...</td>\n      <td>...</td>\n      <td>...</td>\n      <td>...</td>\n      <td>...</td>\n      <td>...</td>\n    </tr>\n    <tr>\n      <th>11490</th>\n      <td>구로소방서</td>\n      <td>공단119안전센터</td>\n      <td>2019-11-30 15:21:13</td>\n      <td>2019-11-30 15:22:04</td>\n      <td>2019-11-30 15:25:59</td>\n      <td>구로구</td>\n      <td>가리봉동</td>\n      <td>1.4</td>\n      <td>Saturday</td>\n      <td>235</td>\n    </tr>\n    <tr>\n      <th>11491</th>\n      <td>관악소방서</td>\n      <td>관악119안전센터</td>\n      <td>2019-11-30 17:59:03</td>\n      <td>2019-11-30 18:00:44</td>\n      <td>2019-11-30 18:04:00</td>\n      <td>관악구</td>\n      <td>봉천동</td>\n      <td>0.5</td>\n      <td>Saturday</td>\n      <td>196</td>\n    </tr>\n    <tr>\n      <th>11492</th>\n      <td>구로소방서</td>\n      <td>공단119안전센터</td>\n      <td>2019-11-30 20:43:20</td>\n      <td>2019-11-30 20:44:41</td>\n      <td>2019-11-30 20:49:56</td>\n      <td>금천구</td>\n      <td>가산동</td>\n      <td>2.4</td>\n      <td>Saturday</td>\n      <td>315</td>\n    </tr>\n    <tr>\n      <th>11493</th>\n      <td>성북소방서</td>\n      <td>돈암119안전센터</td>\n      <td>2019-11-30 23:10:00</td>\n      <td>2019-11-30 23:11:46</td>\n      <td>2019-11-30 23:13:00</td>\n      <td>성북구</td>\n      <td>동선동5가</td>\n      <td>0.8</td>\n      <td>Saturday</td>\n      <td>74</td>\n    </tr>\n    <tr>\n      <th>11494</th>\n      <td>은평소방서</td>\n      <td>진관119안전센터</td>\n      <td>2019-11-30 23:52:45</td>\n      <td>2019-11-30 23:54:10</td>\n      <td>2019-11-30 23:57:00</td>\n      <td>은평구</td>\n      <td>갈현동</td>\n      <td>1.0</td>\n      <td>Saturday</td>\n      <td>170</td>\n    </tr>\n  </tbody>\n</table>\n<p>11495 rows × 10 columns</p>\n</div>"
     },
     "metadata": {}
    }
   ],
   "source": [
    "# 출동시간=도착일시-출동일시 칼럼 추가(label)\n",
    "label=[]\n",
    "\n",
    "for idx, row in fire_xlsx.iterrows():\n",
    "    diff=(row[\"ArrivalTime\"]-row['DepartureTime']).seconds\n",
    "    label.append(diff)\n",
    "\n",
    "fire_xlsx.loc[:, 'TimeTakenSec'] = label # index = fire_xlsx.index\n",
    "display(fire_xlsx)"
   ]
  },
  {
   "cell_type": "code",
   "execution_count": 103,
   "metadata": {},
   "outputs": [
    {
     "output_type": "display_data",
     "data": {
      "text/plain": "      FirestationParent FirestationChild Town Village  DistanceKm       day  \\\n0                 강북소방서        번동119안전센터  강북구      번동         1.4    Monday   \n1                 관악소방서        봉천119안전센터  관악구     봉천동         0.8    Monday   \n2                 강북소방서        번동119안전센터  강북구     수유동         1.7    Monday   \n3                 구로소방서        시흥119안전센터  금천구     시흥동         1.5    Monday   \n4                 구로소방서        독산119안전센터  금천구     시흥동         1.9    Monday   \n...                 ...              ...  ...     ...         ...       ...   \n11490             구로소방서        공단119안전센터  구로구    가리봉동         1.4  Saturday   \n11491             관악소방서        관악119안전센터  관악구     봉천동         0.5  Saturday   \n11492             구로소방서        공단119안전센터  금천구     가산동         2.4  Saturday   \n11493             성북소방서        돈암119안전센터  성북구   동선동5가         0.8  Saturday   \n11494             은평소방서        진관119안전센터  은평구     갈현동         1.0  Saturday   \n\n       TimeTakenSec  \n0               266  \n1               163  \n2               247  \n3               360  \n4               260  \n...             ...  \n11490           235  \n11491           196  \n11492           315  \n11493            74  \n11494           170  \n\n[11495 rows x 7 columns]",
      "text/html": "<div>\n<style scoped>\n    .dataframe tbody tr th:only-of-type {\n        vertical-align: middle;\n    }\n\n    .dataframe tbody tr th {\n        vertical-align: top;\n    }\n\n    .dataframe thead th {\n        text-align: right;\n    }\n</style>\n<table border=\"1\" class=\"dataframe\">\n  <thead>\n    <tr style=\"text-align: right;\">\n      <th></th>\n      <th>FirestationParent</th>\n      <th>FirestationChild</th>\n      <th>Town</th>\n      <th>Village</th>\n      <th>DistanceKm</th>\n      <th>day</th>\n      <th>TimeTakenSec</th>\n    </tr>\n  </thead>\n  <tbody>\n    <tr>\n      <th>0</th>\n      <td>강북소방서</td>\n      <td>번동119안전센터</td>\n      <td>강북구</td>\n      <td>번동</td>\n      <td>1.4</td>\n      <td>Monday</td>\n      <td>266</td>\n    </tr>\n    <tr>\n      <th>1</th>\n      <td>관악소방서</td>\n      <td>봉천119안전센터</td>\n      <td>관악구</td>\n      <td>봉천동</td>\n      <td>0.8</td>\n      <td>Monday</td>\n      <td>163</td>\n    </tr>\n    <tr>\n      <th>2</th>\n      <td>강북소방서</td>\n      <td>번동119안전센터</td>\n      <td>강북구</td>\n      <td>수유동</td>\n      <td>1.7</td>\n      <td>Monday</td>\n      <td>247</td>\n    </tr>\n    <tr>\n      <th>3</th>\n      <td>구로소방서</td>\n      <td>시흥119안전센터</td>\n      <td>금천구</td>\n      <td>시흥동</td>\n      <td>1.5</td>\n      <td>Monday</td>\n      <td>360</td>\n    </tr>\n    <tr>\n      <th>4</th>\n      <td>구로소방서</td>\n      <td>독산119안전센터</td>\n      <td>금천구</td>\n      <td>시흥동</td>\n      <td>1.9</td>\n      <td>Monday</td>\n      <td>260</td>\n    </tr>\n    <tr>\n      <th>...</th>\n      <td>...</td>\n      <td>...</td>\n      <td>...</td>\n      <td>...</td>\n      <td>...</td>\n      <td>...</td>\n      <td>...</td>\n    </tr>\n    <tr>\n      <th>11490</th>\n      <td>구로소방서</td>\n      <td>공단119안전센터</td>\n      <td>구로구</td>\n      <td>가리봉동</td>\n      <td>1.4</td>\n      <td>Saturday</td>\n      <td>235</td>\n    </tr>\n    <tr>\n      <th>11491</th>\n      <td>관악소방서</td>\n      <td>관악119안전센터</td>\n      <td>관악구</td>\n      <td>봉천동</td>\n      <td>0.5</td>\n      <td>Saturday</td>\n      <td>196</td>\n    </tr>\n    <tr>\n      <th>11492</th>\n      <td>구로소방서</td>\n      <td>공단119안전센터</td>\n      <td>금천구</td>\n      <td>가산동</td>\n      <td>2.4</td>\n      <td>Saturday</td>\n      <td>315</td>\n    </tr>\n    <tr>\n      <th>11493</th>\n      <td>성북소방서</td>\n      <td>돈암119안전센터</td>\n      <td>성북구</td>\n      <td>동선동5가</td>\n      <td>0.8</td>\n      <td>Saturday</td>\n      <td>74</td>\n    </tr>\n    <tr>\n      <th>11494</th>\n      <td>은평소방서</td>\n      <td>진관119안전센터</td>\n      <td>은평구</td>\n      <td>갈현동</td>\n      <td>1.0</td>\n      <td>Saturday</td>\n      <td>170</td>\n    </tr>\n  </tbody>\n</table>\n<p>11495 rows × 7 columns</p>\n</div>"
     },
     "metadata": {}
    }
   ],
   "source": [
    "# '접수일시', '출동일시', '도착일시' 칼럼 삭제\n",
    "fire_xlsx.drop(\"ReceiptTime\", axis=1, inplace=True)\n",
    "fire_xlsx.drop(\"DepartureTime\", axis=1, inplace=True)\n",
    "fire_xlsx.drop(\"ArrivalTime\", axis=1, inplace=True)\n",
    "\n",
    "display(fire_xlsx)"
   ]
  },
  {
   "cell_type": "code",
   "execution_count": 104,
   "metadata": {},
   "outputs": [],
   "source": [
    "fire_xlsx.to_csv(\"firestation_TimeTaken.csv\", mode='w', encoding='utf-8')"
   ]
  },
  {
   "cell_type": "code",
   "execution_count": 105,
   "metadata": {},
   "outputs": [],
   "source": [
    "# 학습시키기\n",
    "# 콘솔창에 입력\n",
    "# ludwig train --data_csv C:\\\\Users\\\\Playdata\\\\Desktop\\\\Safety_Project\\\\FireStation_PredictingTime\\\\firestation_TimeTaken.csv --model_definition \"{input_features: [{name: FirestationParent, type: category}, {name: FirestationChild, type: category},{name: Town, type: category},{name: Village, type: category},{name: DistanceKm, type: numerical},{name: day, type: category}], output_features: [{name: TimeTakenSec, type: numerical}]}\""
   ]
  },
  {
   "cell_type": "code",
   "execution_count": null,
   "metadata": {},
   "outputs": [],
   "source": [
    "# 가시화 \n",
    "# 콘솔창에 입력\n",
    "# ludwig visualize --visualization learning_curves --training_statistics C:\\\\Users\\\\Playdata\\\\Desktop\\\\Safety_Project\\\\FireStation_PredictingTime\\\\results\\\\experiment_run_1\\\\description.json"
   ]
  }
 ],
 "metadata": {
  "language_info": {
   "codemirror_mode": {
    "name": "ipython",
    "version": 3
   },
   "file_extension": ".py",
   "mimetype": "text/x-python",
   "name": "python",
   "nbconvert_exporter": "python",
   "pygments_lexer": "ipython3",
   "version": "3.7.6-final"
  },
  "orig_nbformat": 2,
  "kernelspec": {
   "name": "python3",
   "display_name": "Python 3"
  }
 },
 "nbformat": 4,
 "nbformat_minor": 2
}